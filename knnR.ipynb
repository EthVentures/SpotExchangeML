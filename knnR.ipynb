{
 "cells": [
  {
   "cell_type": "code",
   "execution_count": 1,
   "metadata": {},
   "outputs": [
    {
     "name": "stderr",
     "output_type": "stream",
     "text": [
      "/usr/local/lib/python2.7/site-packages/sklearn/cross_validation.py:44: DeprecationWarning: This module was deprecated in version 0.18 in favor of the model_selection module into which all the refactored classes and functions are moved. Also note that the interface of the new CV iterators are different from that of this module. This module will be removed in 0.20.\n",
      "  \"This module will be removed in 0.20.\", DeprecationWarning)\n"
     ]
    }
   ],
   "source": [
    "from sklearn.pipeline import Pipeline\n",
    "from sklearn.neighbors import KNeighborsRegressor\n",
    "from sklearn.cross_validation import train_test_split\n",
    "\n",
    "from pandas import DataFrame\n",
    "from urllib2 import Request, urlopen\n",
    "from json import dumps, loads\n",
    "\n",
    "from features import feature_extraction"
   ]
  },
  {
   "cell_type": "code",
   "execution_count": 24,
   "metadata": {},
   "outputs": [
    {
     "data": {
      "text/plain": [
       "51"
      ]
     },
     "execution_count": 24,
     "metadata": {},
     "output_type": "execute_result"
    }
   ],
   "source": [
    "api_url = 'http://api.parkwhiz.com/v4/quotes?q=api_key=62d882d8cfe5680004fa849286b6ce20'\n",
    "coordinates = '&coordinates:41.8857256,-87.6369590'\n",
    "times = [\n",
    "    '&start_time=2017-12-23T12:00&end_time=2017-12-23T20:00'\n",
    "]\n",
    "for time in times:    \n",
    "    req = Request(api_url + coordinates + time)\n",
    "    page = urlopen(req)\n",
    "    content = page.read()\n",
    "\n",
    "json_data = loads(content)\n",
    "len(json_data)"
   ]
  },
  {
   "cell_type": "code",
   "execution_count": 18,
   "metadata": {},
   "outputs": [
    {
     "data": {
      "text/html": [
       "<div>\n",
       "<style>\n",
       "    .dataframe thead tr:only-child th {\n",
       "        text-align: right;\n",
       "    }\n",
       "\n",
       "    .dataframe thead th {\n",
       "        text-align: left;\n",
       "    }\n",
       "\n",
       "    .dataframe tbody tr th {\n",
       "        vertical-align: top;\n",
       "    }\n",
       "</style>\n",
       "<table border=\"1\" class=\"dataframe\">\n",
       "  <thead>\n",
       "    <tr style=\"text-align: right;\">\n",
       "      <th></th>\n",
       "      <th>id</th>\n",
       "      <th>name</th>\n",
       "      <th>lat</th>\n",
       "      <th>lon</th>\n",
       "      <th>coordinates</th>\n",
       "      <th>address</th>\n",
       "      <th>city</th>\n",
       "      <th>seller_id</th>\n",
       "      <th>price</th>\n",
       "      <th>accessible</th>\n",
       "      <th>valet</th>\n",
       "      <th>security</th>\n",
       "      <th>restrooms</th>\n",
       "      <th>printed_pass</th>\n",
       "      <th>reentry_allowed</th>\n",
       "    </tr>\n",
       "  </thead>\n",
       "  <tbody>\n",
       "    <tr>\n",
       "      <th>0</th>\n",
       "      <td>6460</td>\n",
       "      <td>Franklin &amp; Lake Self Park</td>\n",
       "      <td>41.8852</td>\n",
       "      <td>-87.6356</td>\n",
       "      <td>[41.885230118, -87.6355737448]</td>\n",
       "      <td>180 N. Franklin St.</td>\n",
       "      <td>Chicago</td>\n",
       "      <td>652</td>\n",
       "      <td>13</td>\n",
       "      <td>True</td>\n",
       "      <td>False</td>\n",
       "      <td>True</td>\n",
       "      <td>False</td>\n",
       "      <td>False</td>\n",
       "      <td>False</td>\n",
       "    </tr>\n",
       "    <tr>\n",
       "      <th>1</th>\n",
       "      <td>3871</td>\n",
       "      <td>225 W. Wacker Dr. Building</td>\n",
       "      <td>41.8859</td>\n",
       "      <td>-87.6353</td>\n",
       "      <td>[41.8859381122, -87.6352616959]</td>\n",
       "      <td>281 N. Franklin St.</td>\n",
       "      <td>Chicago</td>\n",
       "      <td>602</td>\n",
       "      <td>9</td>\n",
       "      <td>True</td>\n",
       "      <td>False</td>\n",
       "      <td>False</td>\n",
       "      <td>False</td>\n",
       "      <td>False</td>\n",
       "      <td>False</td>\n",
       "    </tr>\n",
       "    <tr>\n",
       "      <th>2</th>\n",
       "      <td>9529</td>\n",
       "      <td>319 W. Randolph - Lot</td>\n",
       "      <td>41.8843</td>\n",
       "      <td>-87.636</td>\n",
       "      <td>[41.8842716176, -87.6360226795]</td>\n",
       "      <td>319 W. Randolph St.</td>\n",
       "      <td>Chicago</td>\n",
       "      <td>652</td>\n",
       "      <td>13</td>\n",
       "      <td>True</td>\n",
       "      <td>False</td>\n",
       "      <td>False</td>\n",
       "      <td>False</td>\n",
       "      <td>False</td>\n",
       "      <td>False</td>\n",
       "    </tr>\n",
       "    <tr>\n",
       "      <th>3</th>\n",
       "      <td>6168</td>\n",
       "      <td>Wolf Point Self Park</td>\n",
       "      <td>41.8879</td>\n",
       "      <td>-87.6373</td>\n",
       "      <td>[41.8879379045, -87.6372899022]</td>\n",
       "      <td>343 W. Wolfpoint Plz.</td>\n",
       "      <td>Chicago</td>\n",
       "      <td>652</td>\n",
       "      <td>17</td>\n",
       "      <td>False</td>\n",
       "      <td>False</td>\n",
       "      <td>False</td>\n",
       "      <td>False</td>\n",
       "      <td>False</td>\n",
       "      <td>False</td>\n",
       "    </tr>\n",
       "    <tr>\n",
       "      <th>4</th>\n",
       "      <td>3143</td>\n",
       "      <td>Self Park</td>\n",
       "      <td>41.8862</td>\n",
       "      <td>-87.634</td>\n",
       "      <td>[41.8862067926, -87.6339764484]</td>\n",
       "      <td>210 N. Wells St.</td>\n",
       "      <td>Chicago</td>\n",
       "      <td>624</td>\n",
       "      <td>10</td>\n",
       "      <td>True</td>\n",
       "      <td>False</td>\n",
       "      <td>False</td>\n",
       "      <td>False</td>\n",
       "      <td>False</td>\n",
       "      <td>False</td>\n",
       "    </tr>\n",
       "  </tbody>\n",
       "</table>\n",
       "</div>"
      ],
      "text/plain": [
       "     id                        name      lat      lon  \\\n",
       "0  6460   Franklin & Lake Self Park  41.8852 -87.6356   \n",
       "1  3871  225 W. Wacker Dr. Building  41.8859 -87.6353   \n",
       "2  9529       319 W. Randolph - Lot  41.8843  -87.636   \n",
       "3  6168        Wolf Point Self Park  41.8879 -87.6373   \n",
       "4  3143                   Self Park  41.8862  -87.634   \n",
       "\n",
       "                       coordinates                address     city seller_id  \\\n",
       "0   [41.885230118, -87.6355737448]    180 N. Franklin St.  Chicago       652   \n",
       "1  [41.8859381122, -87.6352616959]    281 N. Franklin St.  Chicago       602   \n",
       "2  [41.8842716176, -87.6360226795]    319 W. Randolph St.  Chicago       652   \n",
       "3  [41.8879379045, -87.6372899022]  343 W. Wolfpoint Plz.  Chicago       652   \n",
       "4  [41.8862067926, -87.6339764484]       210 N. Wells St.  Chicago       624   \n",
       "\n",
       "  price accessible  valet security restrooms printed_pass reentry_allowed  \n",
       "0    13       True  False     True     False        False           False  \n",
       "1     9       True  False    False     False        False           False  \n",
       "2    13       True  False    False     False        False           False  \n",
       "3    17      False  False    False     False        False           False  \n",
       "4    10       True  False    False     False        False           False  "
      ]
     },
     "execution_count": 18,
     "metadata": {},
     "output_type": "execute_result"
    }
   ],
   "source": [
    "columns = ['id','name','lat','lon','coordinates','address','city','seller_id','price', 'accessible', 'valet', 'security', 'restrooms', 'printed_pass', 'reentry_allowed']\n",
    "frame = DataFrame(columns=columns)\n",
    "\n",
    "for i, event in enumerate(json_data):\n",
    "    try:\n",
    "        dict0={}\n",
    "        dict0['id'] = event['_embedded']['pw:location']['id']\n",
    "        dict0['name'] = event['_embedded']['pw:location']['name']\n",
    "        dict0['lat'] = float(event['_embedded']['pw:location']['entrances'][0]['coordinates'][0])\n",
    "        dict0['lon'] = float(event['_embedded']['pw:location']['entrances'][0]['coordinates'][1])\n",
    "        dict0['coordinates'] = event['_embedded']['pw:location']['entrances'][0]['coordinates']\n",
    "        dict0['address'] = event['_embedded']['pw:location']['address1']\n",
    "        dict0['city'] = event['_embedded']['pw:location']['city']\n",
    "        dict0['seller_id'] = event['seller_id']\n",
    "        dict0['price'] = float(event['purchase_options'][0]['price']['USD'])\n",
    "        \n",
    "        amenities = event['purchase_options'][0]['amenities']\n",
    "        for item in amenities:\n",
    "            if item['name'] == 'Accessible':\n",
    "                dict0['accessible'] = item['enabled']\n",
    "            if item['name'] == 'Valet':\n",
    "                dict0['valet'] = item['enabled']\n",
    "            if item['name'] == 'Security':\n",
    "                dict0['security'] = item['enabled']\n",
    "            if item['name'] == 'Restrooms':\n",
    "                dict0['restrooms'] = item['enabled']\n",
    "            if item['name'] == 'Printed Pass':\n",
    "                dict0['printed_pass'] = item['enabled']\n",
    "            if item['name'] == 'Reentry Allowed':\n",
    "                dict0['reentry_allowed'] = item['enabled']\n",
    "        # Checks if it is accessible, if there is valet, security, restrooms, printed pass, re-entry allowed\n",
    "        for key in dict0:\n",
    "            frame.loc[i,key] = dict0[key]\n",
    "    except Exception:\n",
    "        pass\n",
    "frame.head()"
   ]
  },
  {
   "cell_type": "code",
   "execution_count": null,
   "metadata": {
    "collapsed": true
   },
   "outputs": [],
   "source": [
    "X_train, X_test, y_train, y_test = train_test_split(frame[['lat','lon']],frame['price'],test_size=0.2,random_state=574)"
   ]
  },
  {
   "cell_type": "code",
   "execution_count": null,
   "metadata": {
    "collapsed": true
   },
   "outputs": [],
   "source": [
    "knnR = KNeighborsRegressor(n_neighbors=3,metric='haversine')"
   ]
  },
  {
   "cell_type": "code",
   "execution_count": null,
   "metadata": {
    "collapsed": true
   },
   "outputs": [],
   "source": [
    "knnR.fit(X_train,y_train)"
   ]
  },
  {
   "cell_type": "code",
   "execution_count": null,
   "metadata": {
    "collapsed": true
   },
   "outputs": [],
   "source": [
    "from repository.mlrepositoryclient import MLRepositoryClient\n",
    "from repository.mlrepositoryartifact import MLRepositoryArtifact\n",
    "from repository.mlrepository import MetaProps, MetaNames"
   ]
  },
  {
   "cell_type": "code",
   "execution_count": null,
   "metadata": {
    "collapsed": true
   },
   "outputs": [],
   "source": [
    "wml_credentials = {\n",
    "  \"url\": \"https://ibm-watson-ml.mybluemix.net\",\n",
    "  \"access_key\": \"5eJV3UHu5LQEVQObnm8ciAywGzvSm7y47quRrlI7Luq3lOzm9fi0i9yQkv70gO54HxGxQ3pIogjgEOjN0TGDTcL0h32gVzPkwMbmHXNpi+FQYUqQmv73SQJrb1WXWeZv\",\n",
    "  \"username\": \"33e97d56-995f-4f77-b0f1-646731e50702\",\n",
    "  \"password\": \"3c2a4a2d-7020-46c5-a9c8-954122ac9d60\",\n",
    "  \"instance_id\": \"00195eb4-c665-4384-9e21-57e59ac66f5f\"\n",
    "}"
   ]
  },
  {
   "cell_type": "code",
   "execution_count": null,
   "metadata": {
    "collapsed": true
   },
   "outputs": [],
   "source": [
    "ml_repository_client = MLRepositoryClient(wml_credentials['url'])\n",
    "ml_repository_client.authorize(wml_credentials['username'], wml_credentials['password'])"
   ]
  },
  {
   "cell_type": "code",
   "execution_count": null,
   "metadata": {
    "collapsed": true
   },
   "outputs": [],
   "source": [
    "props = MetaProps({MetaNames.AUTHOR_NAME:\"Aleksandar Velkoski\", MetaNames.AUTHOR_EMAIL:\"avelkoski@ethventures.io\"})\n",
    "model_artifact = MLRepositoryArtifact(knnR, name=\"SpotExchange KNeighborsRegressor\", meta_props=props)"
   ]
  },
  {
   "cell_type": "code",
   "execution_count": null,
   "metadata": {
    "collapsed": true
   },
   "outputs": [],
   "source": [
    "saved_model = ml_repository_client.models.save(model_artifact)"
   ]
  },
  {
   "cell_type": "code",
   "execution_count": null,
   "metadata": {
    "collapsed": true
   },
   "outputs": [],
   "source": [
    "import urllib3, requests, json\n",
    "\n",
    "headers = urllib3.util.make_headers(basic_auth='{username}:{password}'.format(username=wml_credentials['username'], password=wml_credentials['password']))\n",
    "url = '{}/v3/identity/token'.format(wml_credentials['url'])\n",
    "response = requests.get(url, headers=headers)\n",
    "mltoken = json.loads(response.text).get('token')"
   ]
  },
  {
   "cell_type": "code",
   "execution_count": null,
   "metadata": {
    "collapsed": true
   },
   "outputs": [],
   "source": [
    "endpoint_instance = wml_credentials['url'] + \"/v3/wml_instances/\" + wml_credentials['instance_id']\n",
    "header = {'Content-Type': 'application/json', 'Authorization': 'Bearer ' + mltoken} \n",
    "\n",
    "response_get_instance = requests.get(endpoint_instance, headers=header)"
   ]
  },
  {
   "cell_type": "code",
   "execution_count": null,
   "metadata": {
    "collapsed": true
   },
   "outputs": [],
   "source": [
    "endpoint_published_models = json.loads(response_get_instance.text).get('entity').get('published_models').get('url')"
   ]
  },
  {
   "cell_type": "code",
   "execution_count": null,
   "metadata": {
    "collapsed": true
   },
   "outputs": [],
   "source": [
    "print endpoint_published_models"
   ]
  },
  {
   "cell_type": "code",
   "execution_count": null,
   "metadata": {
    "collapsed": true
   },
   "outputs": [],
   "source": [
    "header = {'Content-Type': 'application/json', 'Authorization': 'Bearer ' + mltoken}\n",
    "response_get = requests.get(endpoint_published_models, headers=header)"
   ]
  },
  {
   "cell_type": "code",
   "execution_count": null,
   "metadata": {
    "collapsed": true
   },
   "outputs": [],
   "source": [
    "print mltoken"
   ]
  },
  {
   "cell_type": "code",
   "execution_count": null,
   "metadata": {
    "collapsed": true
   },
   "outputs": [],
   "source": [
    "[endpoint_deployments] = [x.get('entity').get('deployments').get('url') for x in json.loads(response_get.text).get('resources') if x.get('metadata').get('guid') == saved_model.uid]"
   ]
  },
  {
   "cell_type": "code",
   "execution_count": null,
   "metadata": {
    "collapsed": true
   },
   "outputs": [],
   "source": [
    "payload_online = {\"name\": \"knnR-SpotExchange\", \"description\": \"KNearestNeighbor Regressor for SpotExchange Price Predictions\", \"type\": \"online\"}\n",
    "response_online = requests.post(endpoint_deployments, json=payload_online, headers=header)"
   ]
  },
  {
   "cell_type": "code",
   "execution_count": null,
   "metadata": {
    "collapsed": true
   },
   "outputs": [],
   "source": [
    "scoring_url = json.loads(response_online.text).get('entity').get('scoring_url')\n",
    "\n",
    "print(scoring_url)"
   ]
  },
  {
   "cell_type": "code",
   "execution_count": null,
   "metadata": {
    "collapsed": true
   },
   "outputs": [],
   "source": [
    "values = [[41.88523011803571, -87.63557374477386],\n",
    "       [41.88593811224804, -87.6352616958502],\n",
    "       [41.88427161764708, -87.63602267950773]]"
   ]
  },
  {
   "cell_type": "code",
   "execution_count": null,
   "metadata": {
    "collapsed": true
   },
   "outputs": [],
   "source": [
    "payload_scoring = {\"values\": values}"
   ]
  },
  {
   "cell_type": "code",
   "execution_count": null,
   "metadata": {
    "collapsed": true
   },
   "outputs": [],
   "source": [
    "response_scoring = requests.post(scoring_url, json=payload_scoring, headers=header)"
   ]
  },
  {
   "cell_type": "code",
   "execution_count": null,
   "metadata": {
    "collapsed": true
   },
   "outputs": [],
   "source": [
    "print response_scoring.text"
   ]
  }
 ],
 "metadata": {
  "kernelspec": {
   "display_name": "Python 2",
   "language": "python",
   "name": "python2"
  },
  "language_info": {
   "codemirror_mode": {
    "name": "ipython",
    "version": 2
   },
   "file_extension": ".py",
   "mimetype": "text/x-python",
   "name": "python",
   "nbconvert_exporter": "python",
   "pygments_lexer": "ipython2",
   "version": "2.7.13"
  }
 },
 "nbformat": 4,
 "nbformat_minor": 1
}
