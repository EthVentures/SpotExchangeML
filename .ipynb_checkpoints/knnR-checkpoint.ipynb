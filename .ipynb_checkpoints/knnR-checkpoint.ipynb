{
 "cells": [
  {
   "cell_type": "code",
   "execution_count": 1,
   "metadata": {},
   "outputs": [
    {
     "name": "stderr",
     "output_type": "stream",
     "text": [
      "/usr/local/lib/python2.7/site-packages/sklearn/cross_validation.py:44: DeprecationWarning: This module was deprecated in version 0.18 in favor of the model_selection module into which all the refactored classes and functions are moved. Also note that the interface of the new CV iterators are different from that of this module. This module will be removed in 0.20.\n",
      "  \"This module will be removed in 0.20.\", DeprecationWarning)\n"
     ]
    }
   ],
   "source": [
    "from sklearn.pipeline import Pipeline\n",
    "from sklearn.neighbors import KNeighborsRegressor\n",
    "from sklearn.cross_validation import train_test_split\n",
    "\n",
    "import pandas as pd\n",
    "from urllib2 import Request, urlopen\n",
    "from json import dumps, loads\n",
    "\n",
    "from features import feature_extraction"
   ]
  },
  {
   "cell_type": "code",
   "execution_count": 3,
   "metadata": {},
   "outputs": [
    {
     "data": {
      "text/html": [
       "<div>\n",
       "<style>\n",
       "    .dataframe thead tr:only-child th {\n",
       "        text-align: right;\n",
       "    }\n",
       "\n",
       "    .dataframe thead th {\n",
       "        text-align: left;\n",
       "    }\n",
       "\n",
       "    .dataframe tbody tr th {\n",
       "        vertical-align: top;\n",
       "    }\n",
       "</style>\n",
       "<table border=\"1\" class=\"dataframe\">\n",
       "  <thead>\n",
       "    <tr style=\"text-align: right;\">\n",
       "      <th></th>\n",
       "      <th>id</th>\n",
       "      <th>name</th>\n",
       "      <th>lat</th>\n",
       "      <th>lon</th>\n",
       "      <th>coordinates</th>\n",
       "      <th>address</th>\n",
       "      <th>city</th>\n",
       "      <th>seller_id</th>\n",
       "      <th>price</th>\n",
       "      <th>accessible</th>\n",
       "      <th>valet</th>\n",
       "      <th>security</th>\n",
       "      <th>restrooms</th>\n",
       "      <th>printed_pass</th>\n",
       "      <th>reentry_allowed</th>\n",
       "    </tr>\n",
       "  </thead>\n",
       "  <tbody>\n",
       "    <tr>\n",
       "      <th>0</th>\n",
       "      <td>8343</td>\n",
       "      <td>150 N. Wacker Dr. - Valet</td>\n",
       "      <td>41.8848</td>\n",
       "      <td>-87.6372</td>\n",
       "      <td>[41.8848377337, -87.6372286677]</td>\n",
       "      <td>150 N. Upper Wacker Dr.</td>\n",
       "      <td>Chicago</td>\n",
       "      <td>624</td>\n",
       "      <td>12</td>\n",
       "      <td>0</td>\n",
       "      <td>1</td>\n",
       "      <td>0</td>\n",
       "      <td>0</td>\n",
       "      <td>0</td>\n",
       "      <td>0</td>\n",
       "    </tr>\n",
       "    <tr>\n",
       "      <th>1</th>\n",
       "      <td>6460</td>\n",
       "      <td>Franklin &amp; Lake Self Park</td>\n",
       "      <td>41.8852</td>\n",
       "      <td>-87.6356</td>\n",
       "      <td>[41.885230118, -87.6355737448]</td>\n",
       "      <td>180 N. Franklin St.</td>\n",
       "      <td>Chicago</td>\n",
       "      <td>652</td>\n",
       "      <td>15</td>\n",
       "      <td>1</td>\n",
       "      <td>0</td>\n",
       "      <td>1</td>\n",
       "      <td>0</td>\n",
       "      <td>0</td>\n",
       "      <td>0</td>\n",
       "    </tr>\n",
       "    <tr>\n",
       "      <th>2</th>\n",
       "      <td>3871</td>\n",
       "      <td>225 W. Wacker Dr. Building</td>\n",
       "      <td>41.8859</td>\n",
       "      <td>-87.6353</td>\n",
       "      <td>[41.8859381122, -87.6352616959]</td>\n",
       "      <td>281 N. Franklin St.</td>\n",
       "      <td>Chicago</td>\n",
       "      <td>602</td>\n",
       "      <td>10</td>\n",
       "      <td>1</td>\n",
       "      <td>0</td>\n",
       "      <td>0</td>\n",
       "      <td>0</td>\n",
       "      <td>0</td>\n",
       "      <td>0</td>\n",
       "    </tr>\n",
       "    <tr>\n",
       "      <th>3</th>\n",
       "      <td>9529</td>\n",
       "      <td>319 W. Randolph - Lot</td>\n",
       "      <td>41.8843</td>\n",
       "      <td>-87.636</td>\n",
       "      <td>[41.8842716176, -87.6360226795]</td>\n",
       "      <td>319 W. Randolph St.</td>\n",
       "      <td>Chicago</td>\n",
       "      <td>652</td>\n",
       "      <td>30</td>\n",
       "      <td>1</td>\n",
       "      <td>0</td>\n",
       "      <td>0</td>\n",
       "      <td>0</td>\n",
       "      <td>0</td>\n",
       "      <td>0</td>\n",
       "    </tr>\n",
       "    <tr>\n",
       "      <th>4</th>\n",
       "      <td>3186</td>\n",
       "      <td>165 N. Canal St. - Valet Kiosk</td>\n",
       "      <td>41.8851</td>\n",
       "      <td>-87.6397</td>\n",
       "      <td>[41.885097127, -87.6396544576]</td>\n",
       "      <td>165 N. Canal St.</td>\n",
       "      <td>Chicago</td>\n",
       "      <td>211</td>\n",
       "      <td>10</td>\n",
       "      <td>1</td>\n",
       "      <td>1</td>\n",
       "      <td>0</td>\n",
       "      <td>0</td>\n",
       "      <td>0</td>\n",
       "      <td>0</td>\n",
       "    </tr>\n",
       "  </tbody>\n",
       "</table>\n",
       "</div>"
      ],
      "text/plain": [
       "     id                            name      lat      lon  \\\n",
       "0  8343       150 N. Wacker Dr. - Valet  41.8848 -87.6372   \n",
       "1  6460       Franklin & Lake Self Park  41.8852 -87.6356   \n",
       "2  3871      225 W. Wacker Dr. Building  41.8859 -87.6353   \n",
       "3  9529           319 W. Randolph - Lot  41.8843  -87.636   \n",
       "4  3186  165 N. Canal St. - Valet Kiosk  41.8851 -87.6397   \n",
       "\n",
       "                       coordinates                  address     city  \\\n",
       "0  [41.8848377337, -87.6372286677]  150 N. Upper Wacker Dr.  Chicago   \n",
       "1   [41.885230118, -87.6355737448]      180 N. Franklin St.  Chicago   \n",
       "2  [41.8859381122, -87.6352616959]      281 N. Franklin St.  Chicago   \n",
       "3  [41.8842716176, -87.6360226795]      319 W. Randolph St.  Chicago   \n",
       "4   [41.885097127, -87.6396544576]         165 N. Canal St.  Chicago   \n",
       "\n",
       "  seller_id price accessible valet security restrooms printed_pass  \\\n",
       "0       624    12          0     1        0         0            0   \n",
       "1       652    15          1     0        1         0            0   \n",
       "2       602    10          1     0        0         0            0   \n",
       "3       652    30          1     0        0         0            0   \n",
       "4       211    10          1     1        0         0            0   \n",
       "\n",
       "  reentry_allowed  \n",
       "0               0  \n",
       "1               0  \n",
       "2               0  \n",
       "3               0  \n",
       "4               0  "
      ]
     },
     "execution_count": 3,
     "metadata": {},
     "output_type": "execute_result"
    }
   ],
   "source": [
    "api_url = 'http://api.parkwhiz.com/v4/quotes?q=coordinates:41.8857256,-87.6369590'\n",
    "api_key = '&api_key=62d882d8cfe5680004fa849286b6ce20'\n",
    "times = [\n",
    "    '&start_time=2017-04-14T15:00&end_time=2017-04-14T18:00',\n",
    "    '&start_time=2017-05-14T15:00&end_time=2017-05-14T18:00',\n",
    "    '&start_time=2017-06-14T15:00&end_time=2017-06-14T18:00',\n",
    "    '&start_time=2017-07-14T15:00&end_time=2017-07-14T18:00',\n",
    "    '&start_time=2017-08-14T15:00&end_time=2017-08-14T18:00',\n",
    "    '&start_time=2017-09-14T15:00&end_time=2017-09-14T18:00',\n",
    "    '&start_time=2017-12-23T15:00&end_time=2017-12-23T18:00',\n",
    "]\n",
    "\n",
    "frames = []\n",
    "\n",
    "for time in times:    \n",
    "    req = Request(api_url + api_key + time)\n",
    "    page = urlopen(req)\n",
    "    content = page.read()\n",
    "    json_data = loads(content)\n",
    "    frames.append(feature_extraction(json_data))\n",
    "    \n",
    "frame = pd.concat(frames)\n",
    "frame = frame.drop_duplicates('id')\n",
    "frame.head()"
   ]
  },
  {
   "cell_type": "code",
   "execution_count": 8,
   "metadata": {},
   "outputs": [],
   "source": [
    "# Re-Entry Allowed and printed pass are not that relevant, only 1 row is true so we exclude\n",
    "df_train = frame[['lat', 'lon', 'accessible', 'valet', 'security', 'restrooms']]"
   ]
  },
  {
   "cell_type": "code",
   "execution_count": 12,
   "metadata": {},
   "outputs": [
    {
     "data": {
      "text/html": [
       "<div>\n",
       "<style>\n",
       "    .dataframe thead tr:only-child th {\n",
       "        text-align: right;\n",
       "    }\n",
       "\n",
       "    .dataframe thead th {\n",
       "        text-align: left;\n",
       "    }\n",
       "\n",
       "    .dataframe tbody tr th {\n",
       "        vertical-align: top;\n",
       "    }\n",
       "</style>\n",
       "<table border=\"1\" class=\"dataframe\">\n",
       "  <thead>\n",
       "    <tr style=\"text-align: right;\">\n",
       "      <th></th>\n",
       "      <th>lat</th>\n",
       "      <th>lon</th>\n",
       "      <th>accessible</th>\n",
       "      <th>valet</th>\n",
       "      <th>security</th>\n",
       "      <th>restrooms</th>\n",
       "    </tr>\n",
       "  </thead>\n",
       "  <tbody>\n",
       "    <tr>\n",
       "      <th>0</th>\n",
       "      <td>41.8848</td>\n",
       "      <td>-87.6372</td>\n",
       "      <td>0</td>\n",
       "      <td>1</td>\n",
       "      <td>0</td>\n",
       "      <td>0</td>\n",
       "    </tr>\n",
       "    <tr>\n",
       "      <th>1</th>\n",
       "      <td>41.8852</td>\n",
       "      <td>-87.6356</td>\n",
       "      <td>1</td>\n",
       "      <td>0</td>\n",
       "      <td>1</td>\n",
       "      <td>0</td>\n",
       "    </tr>\n",
       "    <tr>\n",
       "      <th>2</th>\n",
       "      <td>41.8859</td>\n",
       "      <td>-87.6353</td>\n",
       "      <td>1</td>\n",
       "      <td>0</td>\n",
       "      <td>0</td>\n",
       "      <td>0</td>\n",
       "    </tr>\n",
       "    <tr>\n",
       "      <th>3</th>\n",
       "      <td>41.8843</td>\n",
       "      <td>-87.636</td>\n",
       "      <td>1</td>\n",
       "      <td>0</td>\n",
       "      <td>0</td>\n",
       "      <td>0</td>\n",
       "    </tr>\n",
       "    <tr>\n",
       "      <th>4</th>\n",
       "      <td>41.8851</td>\n",
       "      <td>-87.6397</td>\n",
       "      <td>1</td>\n",
       "      <td>1</td>\n",
       "      <td>0</td>\n",
       "      <td>0</td>\n",
       "    </tr>\n",
       "  </tbody>\n",
       "</table>\n",
       "</div>"
      ],
      "text/plain": [
       "       lat      lon accessible valet security restrooms\n",
       "0  41.8848 -87.6372          0     1        0         0\n",
       "1  41.8852 -87.6356          1     0        1         0\n",
       "2  41.8859 -87.6353          1     0        0         0\n",
       "3  41.8843  -87.636          1     0        0         0\n",
       "4  41.8851 -87.6397          1     1        0         0"
      ]
     },
     "execution_count": 12,
     "metadata": {},
     "output_type": "execute_result"
    }
   ],
   "source": [
    "df_train.head()"
   ]
  },
  {
   "cell_type": "code",
   "execution_count": 48,
   "metadata": {
    "collapsed": true
   },
   "outputs": [],
   "source": [
    "# Ensemble. One for lat lon with haversine distance and the other with a categorical jaccard metric\n",
    "# X_d_train = distance knnR data\n",
    "# X_c_train = categorical knnR data\n",
    "X_d_train, X_d_test, y_d_train, y_d_test = train_test_split(df_train[['lat', 'lon']],frame['price'],test_size=0.2,random_state=574)\n",
    "X_c_train, X_c_test, y_c_train, y_c_test = train_test_split(df_train[['accessible', 'valet', 'security', 'restrooms']],frame['price'],test_size=0.2,random_state=574)"
   ]
  },
  {
   "cell_type": "code",
   "execution_count": 49,
   "metadata": {
    "collapsed": true
   },
   "outputs": [],
   "source": [
    "knnRDistance = KNeighborsRegressor(n_neighbors=3, metric='haversine')\n",
    "knnRCategorical = KNeighborsRegressor(n_neighbors=3, metric='jaccard')"
   ]
  },
  {
   "cell_type": "code",
   "execution_count": 50,
   "metadata": {},
   "outputs": [
    {
     "data": {
      "text/plain": [
       "KNeighborsRegressor(algorithm='auto', leaf_size=30, metric='jaccard',\n",
       "          metric_params=None, n_jobs=1, n_neighbors=3, p=2,\n",
       "          weights='uniform')"
      ]
     },
     "execution_count": 50,
     "metadata": {},
     "output_type": "execute_result"
    }
   ],
   "source": [
    "knnRDistance.fit(X_d_train,y_d_train)\n",
    "knnRCategorical.fit(X_c_train,y_c_train)"
   ]
  },
  {
   "cell_type": "code",
   "execution_count": 51,
   "metadata": {},
   "outputs": [
    {
     "name": "stdout",
     "output_type": "stream",
     "text": [
      "24.1666666667\n",
      "55.8240740741\n"
     ]
    }
   ],
   "source": [
    "from sklearn.metrics import mean_squared_error\n",
    "y_d_pred = knnRDistance.predict(X_d_test)\n",
    "y_c_pred = knnRCategorical.predict(X_c_test)\n",
    "\n",
    "print mean_squared_error(y_d_pred, y_d_test)\n",
    "print mean_squared_error(y_c_pred, y_c_test)"
   ]
  },
  {
   "cell_type": "code",
   "execution_count": 27,
   "metadata": {},
   "outputs": [
    {
     "ename": "ImportError",
     "evalue": "No module named repository.mlrepositoryclient",
     "output_type": "error",
     "traceback": [
      "\u001b[0;31m---------------------------------------------------------------------------\u001b[0m",
      "\u001b[0;31mImportError\u001b[0m                               Traceback (most recent call last)",
      "\u001b[0;32m<ipython-input-27-ddcdf14027cd>\u001b[0m in \u001b[0;36m<module>\u001b[0;34m()\u001b[0m\n\u001b[0;32m----> 1\u001b[0;31m \u001b[0;32mfrom\u001b[0m \u001b[0mrepository\u001b[0m\u001b[0;34m.\u001b[0m\u001b[0mmlrepositoryclient\u001b[0m \u001b[0;32mimport\u001b[0m \u001b[0mMLRepositoryClient\u001b[0m\u001b[0;34m\u001b[0m\u001b[0m\n\u001b[0m\u001b[1;32m      2\u001b[0m \u001b[0;32mfrom\u001b[0m \u001b[0mrepository\u001b[0m\u001b[0;34m.\u001b[0m\u001b[0mmlrepositoryartifact\u001b[0m \u001b[0;32mimport\u001b[0m \u001b[0mMLRepositoryArtifact\u001b[0m\u001b[0;34m\u001b[0m\u001b[0m\n\u001b[1;32m      3\u001b[0m \u001b[0;32mfrom\u001b[0m \u001b[0mrepository\u001b[0m\u001b[0;34m.\u001b[0m\u001b[0mmlrepository\u001b[0m \u001b[0;32mimport\u001b[0m \u001b[0mMetaProps\u001b[0m\u001b[0;34m,\u001b[0m \u001b[0mMetaNames\u001b[0m\u001b[0;34m\u001b[0m\u001b[0m\n",
      "\u001b[0;31mImportError\u001b[0m: No module named repository.mlrepositoryclient"
     ]
    }
   ],
   "source": [
    "from repository.mlrepositoryclient import MLRepositoryClient\n",
    "from repository.mlrepositoryartifact import MLRepositoryArtifact\n",
    "from repository.mlrepository import MetaProps, MetaNames"
   ]
  },
  {
   "cell_type": "code",
   "execution_count": null,
   "metadata": {
    "collapsed": true
   },
   "outputs": [],
   "source": [
    "wml_credentials = {\n",
    "  \"url\": \"https://ibm-watson-ml.mybluemix.net\",\n",
    "  \"access_key\": \"5eJV3UHu5LQEVQObnm8ciAywGzvSm7y47quRrlI7Luq3lOzm9fi0i9yQkv70gO54HxGxQ3pIogjgEOjN0TGDTcL0h32gVzPkwMbmHXNpi+FQYUqQmv73SQJrb1WXWeZv\",\n",
    "  \"username\": \"33e97d56-995f-4f77-b0f1-646731e50702\",\n",
    "  \"password\": \"3c2a4a2d-7020-46c5-a9c8-954122ac9d60\",\n",
    "  \"instance_id\": \"00195eb4-c665-4384-9e21-57e59ac66f5f\"\n",
    "}"
   ]
  },
  {
   "cell_type": "code",
   "execution_count": null,
   "metadata": {
    "collapsed": true
   },
   "outputs": [],
   "source": [
    "ml_repository_client = MLRepositoryClient(wml_credentials['url'])\n",
    "ml_repository_client.authorize(wml_credentials['username'], wml_credentials['password'])"
   ]
  },
  {
   "cell_type": "code",
   "execution_count": null,
   "metadata": {
    "collapsed": true
   },
   "outputs": [],
   "source": [
    "props = MetaProps({MetaNames.AUTHOR_NAME:\"Aleksandar Velkoski\", MetaNames.AUTHOR_EMAIL:\"avelkoski@ethventures.io\"})\n",
    "model_artifact = MLRepositoryArtifact(knnR, name=\"SpotExchange KNeighborsRegressor\", meta_props=props)"
   ]
  },
  {
   "cell_type": "code",
   "execution_count": null,
   "metadata": {
    "collapsed": true
   },
   "outputs": [],
   "source": [
    "saved_model = ml_repository_client.models.save(model_artifact)"
   ]
  },
  {
   "cell_type": "code",
   "execution_count": null,
   "metadata": {
    "collapsed": true
   },
   "outputs": [],
   "source": [
    "import urllib3, requests, json\n",
    "\n",
    "headers = urllib3.util.make_headers(basic_auth='{username}:{password}'.format(username=wml_credentials['username'], password=wml_credentials['password']))\n",
    "url = '{}/v3/identity/token'.format(wml_credentials['url'])\n",
    "response = requests.get(url, headers=headers)\n",
    "mltoken = json.loads(response.text).get('token')"
   ]
  },
  {
   "cell_type": "code",
   "execution_count": null,
   "metadata": {
    "collapsed": true
   },
   "outputs": [],
   "source": [
    "endpoint_instance = wml_credentials['url'] + \"/v3/wml_instances/\" + wml_credentials['instance_id']\n",
    "header = {'Content-Type': 'application/json', 'Authorization': 'Bearer ' + mltoken} \n",
    "\n",
    "response_get_instance = requests.get(endpoint_instance, headers=header)"
   ]
  },
  {
   "cell_type": "code",
   "execution_count": null,
   "metadata": {
    "collapsed": true
   },
   "outputs": [],
   "source": [
    "endpoint_published_models = json.loads(response_get_instance.text).get('entity').get('published_models').get('url')"
   ]
  },
  {
   "cell_type": "code",
   "execution_count": null,
   "metadata": {
    "collapsed": true
   },
   "outputs": [],
   "source": [
    "print endpoint_published_models"
   ]
  },
  {
   "cell_type": "code",
   "execution_count": null,
   "metadata": {
    "collapsed": true
   },
   "outputs": [],
   "source": [
    "header = {'Content-Type': 'application/json', 'Authorization': 'Bearer ' + mltoken}\n",
    "response_get = requests.get(endpoint_published_models, headers=header)"
   ]
  },
  {
   "cell_type": "code",
   "execution_count": null,
   "metadata": {
    "collapsed": true
   },
   "outputs": [],
   "source": [
    "print mltoken"
   ]
  },
  {
   "cell_type": "code",
   "execution_count": null,
   "metadata": {
    "collapsed": true
   },
   "outputs": [],
   "source": [
    "[endpoint_deployments] = [x.get('entity').get('deployments').get('url') for x in json.loads(response_get.text).get('resources') if x.get('metadata').get('guid') == saved_model.uid]"
   ]
  },
  {
   "cell_type": "code",
   "execution_count": null,
   "metadata": {
    "collapsed": true
   },
   "outputs": [],
   "source": [
    "payload_online = {\"name\": \"knnR-SpotExchange\", \"description\": \"KNearestNeighbor Regressor for SpotExchange Price Predictions\", \"type\": \"online\"}\n",
    "response_online = requests.post(endpoint_deployments, json=payload_online, headers=header)"
   ]
  },
  {
   "cell_type": "code",
   "execution_count": null,
   "metadata": {
    "collapsed": true
   },
   "outputs": [],
   "source": [
    "scoring_url = json.loads(response_online.text).get('entity').get('scoring_url')\n",
    "\n",
    "print(scoring_url)"
   ]
  },
  {
   "cell_type": "code",
   "execution_count": null,
   "metadata": {
    "collapsed": true
   },
   "outputs": [],
   "source": [
    "values = [[41.88523011803571, -87.63557374477386],\n",
    "       [41.88593811224804, -87.6352616958502],\n",
    "       [41.88427161764708, -87.63602267950773]]"
   ]
  },
  {
   "cell_type": "code",
   "execution_count": null,
   "metadata": {
    "collapsed": true
   },
   "outputs": [],
   "source": [
    "payload_scoring = {\"values\": values}"
   ]
  },
  {
   "cell_type": "code",
   "execution_count": null,
   "metadata": {
    "collapsed": true
   },
   "outputs": [],
   "source": [
    "response_scoring = requests.post(scoring_url, json=payload_scoring, headers=header)"
   ]
  },
  {
   "cell_type": "code",
   "execution_count": null,
   "metadata": {
    "collapsed": true
   },
   "outputs": [],
   "source": [
    "print response_scoring.text"
   ]
  }
 ],
 "metadata": {
  "kernelspec": {
   "display_name": "Python 2",
   "language": "python",
   "name": "python2"
  }
 },
 "nbformat": 4,
 "nbformat_minor": 1
}
